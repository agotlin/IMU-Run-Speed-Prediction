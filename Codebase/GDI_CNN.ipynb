{
 "cells": [
  {
   "cell_type": "code",
   "execution_count": 1,
   "metadata": {},
   "outputs": [
    {
     "ename": "ModuleNotFoundError",
     "evalue": "No module named 'tensorflow'",
     "output_type": "error",
     "traceback": [
      "\u001b[1;31m---------------------------------------------------------------------------\u001b[0m",
      "\u001b[1;31mModuleNotFoundError\u001b[0m                       Traceback (most recent call last)",
      "\u001b[1;32m<ipython-input-1-e47c3d296f8a>\u001b[0m in \u001b[0;36m<module>\u001b[1;34m()\u001b[0m\n\u001b[0;32m      1\u001b[0m \u001b[1;32mimport\u001b[0m \u001b[0mnumpy\u001b[0m \u001b[1;32mas\u001b[0m \u001b[0mnp\u001b[0m\u001b[1;33m\u001b[0m\u001b[1;33m\u001b[0m\u001b[0m\n\u001b[1;32m----> 2\u001b[1;33m \u001b[1;32mimport\u001b[0m \u001b[0mtensorflow\u001b[0m \u001b[1;32mas\u001b[0m \u001b[0mtf\u001b[0m\u001b[1;33m\u001b[0m\u001b[1;33m\u001b[0m\u001b[0m\n\u001b[0m\u001b[0;32m      3\u001b[0m \u001b[1;32mimport\u001b[0m \u001b[0mrandom\u001b[0m \u001b[1;32mas\u001b[0m \u001b[0mrn\u001b[0m\u001b[1;33m\u001b[0m\u001b[1;33m\u001b[0m\u001b[0m\n\u001b[0;32m      4\u001b[0m \u001b[1;32mimport\u001b[0m \u001b[0mos\u001b[0m\u001b[1;33m\u001b[0m\u001b[1;33m\u001b[0m\u001b[0m\n\u001b[0;32m      5\u001b[0m \u001b[1;32mimport\u001b[0m \u001b[0mmatplotlib\u001b[0m\u001b[1;33m.\u001b[0m\u001b[0mpyplot\u001b[0m \u001b[1;32mas\u001b[0m \u001b[0mplt\u001b[0m\u001b[1;33m\u001b[0m\u001b[1;33m\u001b[0m\u001b[0m\n",
      "\u001b[1;31mModuleNotFoundError\u001b[0m: No module named 'tensorflow'"
     ]
    }
   ],
   "source": [
    "import numpy as np\n",
    "import tensorflow as tf\n",
    "import random as rn\n",
    "import os\n",
    "import matplotlib.pyplot as plt\n",
    "%matplotlib inline\n",
    "os.environ['PYTHONHASHSEED'] = '0'\n",
    "np.random.seed(1)\n",
    "rn.seed(1)\n",
    "from keras import backend as K\n",
    "tf.set_random_seed(1)\n",
    "sess = tf.Session(graph=tf.get_default_graph())\n",
    "K.set_session(sess)\n",
    "import sys\n",
    "import keras\n",
    "from keras.models import Sequential\n",
    "from keras.layers import LSTM, Dense, Activation, Dropout, Flatten\n",
    "from keras.layers import Conv1D,MaxPooling1D,Conv2D,MaxPooling2D\n",
    "from keras.layers.normalization import BatchNormalization\n",
    "from keras.optimizers import SGD\n",
    "from keras.optimizers import RMSprop\n",
    "from keras.callbacks import LearningRateScheduler\n",
    "from keras.callbacks import ModelCheckpoint\n",
    "from keras.callbacks import TerminateOnNaN\n",
    "import keras.regularizers\n",
    "import scipy\n",
    "import math\n",
    "import sys\n",
    "import pandas as pd\n",
    "from scipy.ndimage.filters import gaussian_filter1d\n",
    "from sklearn.metrics import mean_squared_error\n",
    "from scipy.stats import linregress\n",
    "from scipy import interpolate\n",
    "from scipy import signal\n",
    "#import cPickle as pickle\n",
    "#from video_process_utils import *\n",
    "import collections\n",
    "from keras.preprocessing.image import ImageDataGenerator, array_to_img, img_to_array, load_img\n",
    "from PIL import Image\n",
    "import matplotlib.pylab as plt\n",
    "from sklearn.preprocessing import StandardScaler, OneHotEncoder, LabelEncoder\n",
    "from sklearn.model_selection import train_test_split\n",
    "#os.environ[\"CUDA_DEVICE_ORDER\"]=\"PCI_BUS_ID\"\n",
    "#os.environ[\"CUDA_VISIBLE_DEVICES\"]=\"0\" "
   ]
  },
  {
   "cell_type": "code",
   "execution_count": 2,
   "metadata": {},
   "outputs": [
    {
     "name": "stdout",
     "output_type": "stream",
     "text": [
      "[name: \"/device:CPU:0\"\n",
      "device_type: \"CPU\"\n",
      "memory_limit: 268435456\n",
      "locality {\n",
      "}\n",
      "incarnation: 84621376183108621\n",
      ", name: \"/device:GPU:0\"\n",
      "device_type: \"GPU\"\n",
      "memory_limit: 6774193193\n",
      "locality {\n",
      "  bus_id: 1\n",
      "  links {\n",
      "  }\n",
      "}\n",
      "incarnation: 16228679772910272266\n",
      "physical_device_desc: \"device: 0, name: Quadro M5000M, pci bus id: 0000:01:00.0, compute capability: 5.2\"\n",
      "]\n"
     ]
    }
   ],
   "source": [
    "# from tensorflow.python.client import device_lib\n",
    "# print(device_lib.list_local_devices())"
   ]
  },
  {
   "cell_type": "code",
   "execution_count": 4,
   "metadata": {},
   "outputs": [],
   "source": [
    "sess = tf.Session(config=tf.ConfigProto(log_device_placement=True))"
   ]
  },
  {
   "cell_type": "code",
   "execution_count": 9,
   "metadata": {},
   "outputs": [],
   "source": [
    "mergedgdiavg_new_df = pd.read_csv('./data/test/labels/merged_gdiavg.csv', parse_dates = [\"Event_Date\"])"
   ]
  },
  {
   "cell_type": "code",
   "execution_count": 10,
   "metadata": {},
   "outputs": [
    {
     "data": {
      "text/html": [
       "<div>\n",
       "<style scoped>\n",
       "    .dataframe tbody tr th:only-of-type {\n",
       "        vertical-align: middle;\n",
       "    }\n",
       "\n",
       "    .dataframe tbody tr th {\n",
       "        vertical-align: top;\n",
       "    }\n",
       "\n",
       "    .dataframe thead th {\n",
       "        text-align: right;\n",
       "    }\n",
       "</style>\n",
       "<table border=\"1\" class=\"dataframe\">\n",
       "  <thead>\n",
       "    <tr style=\"text-align: right;\">\n",
       "      <th></th>\n",
       "      <th>Unnamed: 0</th>\n",
       "      <th>examid</th>\n",
       "      <th>Patient_ID</th>\n",
       "      <th>GDI</th>\n",
       "      <th>Event_Date</th>\n",
       "      <th>Video_File</th>\n",
       "    </tr>\n",
       "  </thead>\n",
       "  <tbody>\n",
       "    <tr>\n",
       "      <th>0</th>\n",
       "      <td>0</td>\n",
       "      <td>32</td>\n",
       "      <td>3364.0</td>\n",
       "      <td>83.715617</td>\n",
       "      <td>1994-10-24</td>\n",
       "      <td>.\\data\\densepose-out\\06988401-processed</td>\n",
       "    </tr>\n",
       "    <tr>\n",
       "      <th>1</th>\n",
       "      <td>1</td>\n",
       "      <td>35</td>\n",
       "      <td>3365.0</td>\n",
       "      <td>78.112851</td>\n",
       "      <td>1996-03-07</td>\n",
       "      <td>.\\data\\densepose-out\\07022001-processed</td>\n",
       "    </tr>\n",
       "    <tr>\n",
       "      <th>2</th>\n",
       "      <td>2</td>\n",
       "      <td>36</td>\n",
       "      <td>3367.0</td>\n",
       "      <td>53.457512</td>\n",
       "      <td>1997-07-31</td>\n",
       "      <td>.\\data\\densepose-out\\07337701-processed</td>\n",
       "    </tr>\n",
       "    <tr>\n",
       "      <th>3</th>\n",
       "      <td>3</td>\n",
       "      <td>37</td>\n",
       "      <td>3369.0</td>\n",
       "      <td>60.827350</td>\n",
       "      <td>1995-08-22</td>\n",
       "      <td>.\\data\\densepose-out\\07399701-processed</td>\n",
       "    </tr>\n",
       "    <tr>\n",
       "      <th>4</th>\n",
       "      <td>4</td>\n",
       "      <td>40</td>\n",
       "      <td>3371.0</td>\n",
       "      <td>63.043201</td>\n",
       "      <td>1994-12-20</td>\n",
       "      <td>.\\data\\densepose-out\\07720401-processed</td>\n",
       "    </tr>\n",
       "  </tbody>\n",
       "</table>\n",
       "</div>"
      ],
      "text/plain": [
       "   Unnamed: 0  examid  Patient_ID        GDI Event_Date  \\\n",
       "0           0      32      3364.0  83.715617 1994-10-24   \n",
       "1           1      35      3365.0  78.112851 1996-03-07   \n",
       "2           2      36      3367.0  53.457512 1997-07-31   \n",
       "3           3      37      3369.0  60.827350 1995-08-22   \n",
       "4           4      40      3371.0  63.043201 1994-12-20   \n",
       "\n",
       "                                Video_File  \n",
       "0  .\\data\\densepose-out\\06988401-processed  \n",
       "1  .\\data\\densepose-out\\07022001-processed  \n",
       "2  .\\data\\densepose-out\\07337701-processed  \n",
       "3  .\\data\\densepose-out\\07399701-processed  \n",
       "4  .\\data\\densepose-out\\07720401-processed  "
      ]
     },
     "execution_count": 10,
     "metadata": {},
     "output_type": "execute_result"
    }
   ],
   "source": [
    "mergedgdiavg_new_df.head()"
   ]
  },
  {
   "cell_type": "code",
   "execution_count": 12,
   "metadata": {},
   "outputs": [],
   "source": [
    "d_mergedgdiavg_new_df = mergedgdiavg_new_df[True != mergedgdiavg_new_df['GDI'].isnull()]"
   ]
  },
  {
   "cell_type": "code",
   "execution_count": 14,
   "metadata": {},
   "outputs": [
    {
     "data": {
      "text/plain": [
       "0    .\\data\\densepose-out\\06988401-processed\n",
       "1    .\\data\\densepose-out\\07022001-processed\n",
       "2    .\\data\\densepose-out\\07337701-processed\n",
       "3    .\\data\\densepose-out\\07399701-processed\n",
       "4    .\\data\\densepose-out\\07720401-processed\n",
       "Name: Video_File, dtype: object"
      ]
     },
     "execution_count": 14,
     "metadata": {},
     "output_type": "execute_result"
    }
   ],
   "source": [
    "image_path=d_mergedgdiavg_new_df['Video_File']\n",
    "image_path.head()"
   ]
  },
  {
   "cell_type": "code",
   "execution_count": 15,
   "metadata": {},
   "outputs": [
    {
     "data": {
      "text/plain": [
       "0    83.715617\n",
       "1    78.112851\n",
       "2    53.457512\n",
       "3    60.827350\n",
       "4    63.043201\n",
       "Name: GDI, dtype: float64"
      ]
     },
     "execution_count": 15,
     "metadata": {},
     "output_type": "execute_result"
    }
   ],
   "source": [
    "labels=d_mergedgdiavg_new_df['GDI']\n",
    "labels.head()"
   ]
  },
  {
   "cell_type": "code",
   "execution_count": 17,
   "metadata": {},
   "outputs": [],
   "source": [
    "image_file_path = []\n",
    "labels = []\n",
    "for root, dirs, files in os.walk('./data/densepose-out'):\n",
    "    if(root.endswith('processed')):\n",
    "        image_dir_name = (root[root.rfind('\\\\')+1:])\n",
    "        if(d_mergedgdiavg_new_df['Video_File'].str.contains(image_dir_name, na=False).any()):\n",
    "            dirImages = []\n",
    "            img_cnt = 0\n",
    "            for file in files:\n",
    "                if(file.endswith('_IUV.png')):\n",
    "                    image_file_path.append(os.path.join(root, file))\n",
    "                    labels.append(d_mergedgdiavg_new_df.GDI[d_mergedgdiavg_new_df['Video_File'].str.contains(image_dir_name, na=False)].values[0])"
   ]
  },
  {
   "cell_type": "code",
   "execution_count": 18,
   "metadata": {},
   "outputs": [
    {
     "data": {
      "text/plain": [
       "234033"
      ]
     },
     "execution_count": 18,
     "metadata": {},
     "output_type": "execute_result"
    }
   ],
   "source": [
    "len(image_file_path)"
   ]
  },
  {
   "cell_type": "code",
   "execution_count": 19,
   "metadata": {},
   "outputs": [
    {
     "data": {
      "text/plain": [
       "234033"
      ]
     },
     "execution_count": 19,
     "metadata": {},
     "output_type": "execute_result"
    }
   ],
   "source": [
    "len(labels)"
   ]
  },
  {
   "cell_type": "code",
   "execution_count": 21,
   "metadata": {},
   "outputs": [
    {
     "data": {
      "text/html": [
       "<div>\n",
       "<style scoped>\n",
       "    .dataframe tbody tr th:only-of-type {\n",
       "        vertical-align: middle;\n",
       "    }\n",
       "\n",
       "    .dataframe tbody tr th {\n",
       "        vertical-align: top;\n",
       "    }\n",
       "\n",
       "    .dataframe thead th {\n",
       "        text-align: right;\n",
       "    }\n",
       "</style>\n",
       "<table border=\"1\" class=\"dataframe\">\n",
       "  <thead>\n",
       "    <tr style=\"text-align: right;\">\n",
       "      <th></th>\n",
       "      <th>image_path</th>\n",
       "      <th>labels</th>\n",
       "    </tr>\n",
       "  </thead>\n",
       "  <tbody>\n",
       "    <tr>\n",
       "      <th>0</th>\n",
       "      <td>./data/densepose-out\\07337701-processed\\000053...</td>\n",
       "      <td>53.457512</td>\n",
       "    </tr>\n",
       "    <tr>\n",
       "      <th>1</th>\n",
       "      <td>./data/densepose-out\\07337701-processed\\000054...</td>\n",
       "      <td>53.457512</td>\n",
       "    </tr>\n",
       "    <tr>\n",
       "      <th>2</th>\n",
       "      <td>./data/densepose-out\\07337701-processed\\000055...</td>\n",
       "      <td>53.457512</td>\n",
       "    </tr>\n",
       "    <tr>\n",
       "      <th>3</th>\n",
       "      <td>./data/densepose-out\\07337701-processed\\000056...</td>\n",
       "      <td>53.457512</td>\n",
       "    </tr>\n",
       "    <tr>\n",
       "      <th>4</th>\n",
       "      <td>./data/densepose-out\\07337701-processed\\000057...</td>\n",
       "      <td>53.457512</td>\n",
       "    </tr>\n",
       "  </tbody>\n",
       "</table>\n",
       "</div>"
      ],
      "text/plain": [
       "                                          image_path     labels\n",
       "0  ./data/densepose-out\\07337701-processed\\000053...  53.457512\n",
       "1  ./data/densepose-out\\07337701-processed\\000054...  53.457512\n",
       "2  ./data/densepose-out\\07337701-processed\\000055...  53.457512\n",
       "3  ./data/densepose-out\\07337701-processed\\000056...  53.457512\n",
       "4  ./data/densepose-out\\07337701-processed\\000057...  53.457512"
      ]
     },
     "execution_count": 21,
     "metadata": {},
     "output_type": "execute_result"
    }
   ],
   "source": [
    "image_path_series=pd.Series(image_file_path)\n",
    "labels_series=pd.Series(labels)\n",
    "imgaepath_gdi_df = pd.DataFrame()\n",
    "imgaepath_gdi_df['image_path']=image_path_series.values\n",
    "imgaepath_gdi_df['labels']=labels_series.values\n",
    "imgaepath_gdi_df.head()"
   ]
  },
  {
   "cell_type": "code",
   "execution_count": 161,
   "metadata": {},
   "outputs": [],
   "source": [
    "imgaepath_gdi_df.to_csv('./data/test/labels/imagepath_gdi.csv')"
   ]
  },
  {
   "cell_type": "code",
   "execution_count": 143,
   "metadata": {},
   "outputs": [
    {
     "data": {
      "text/plain": [
       "41.14290534476204"
      ]
     },
     "execution_count": 143,
     "metadata": {},
     "output_type": "execute_result"
    }
   ],
   "source": [
    "imgaepath_gdi_df.at[imgaepath_gdi_df['labels'].idxmin(),'labels']"
   ]
  },
  {
   "cell_type": "code",
   "execution_count": 144,
   "metadata": {},
   "outputs": [
    {
     "data": {
      "text/plain": [
       "113.2733105096525"
      ]
     },
     "execution_count": 144,
     "metadata": {},
     "output_type": "execute_result"
    }
   ],
   "source": [
    "imgaepath_gdi_df.at[imgaepath_gdi_df['labels'].idxmax(),'labels']"
   ]
  },
  {
   "cell_type": "code",
   "execution_count": 152,
   "metadata": {},
   "outputs": [
    {
     "name": "stdout",
     "output_type": "stream",
     "text": [
      "45\n",
      "49\n",
      "53\n",
      "57\n",
      "61\n",
      "65\n",
      "69\n",
      "73\n",
      "77\n",
      "81\n",
      "85\n",
      "89\n",
      "93\n",
      "97\n",
      "101\n",
      "105\n",
      "109\n",
      "113\n"
     ]
    }
   ],
   "source": [
    "for i in range(45,117,4):\n",
    "    print(i)"
   ]
  },
  {
   "cell_type": "code",
   "execution_count": 154,
   "metadata": {},
   "outputs": [],
   "source": [
    "label_norm=[]\n",
    "for labels in imgaepath_gdi_df['labels']:\n",
    "    #print(int(round(labels)))\n",
    "    labelint = int(round(labels))\n",
    "    if(labelint <= 45):\n",
    "        label_norm.append('0')\n",
    "    if(labelint > 45 and labelint <= 49):\n",
    "        label_norm.append('1')\n",
    "    if(labelint > 49 and labelint <= 53):\n",
    "        label_norm.append('2')\n",
    "    if(labelint > 53 and labelint <= 57):\n",
    "        label_norm.append('3')\n",
    "    if(labelint > 57 and labelint <= 61):\n",
    "        label_norm.append('4')\n",
    "    if(labelint > 61 and labelint <= 65):\n",
    "        label_norm.append('5')\n",
    "    if(labelint > 65 and labelint <= 69):\n",
    "        label_norm.append('6')\n",
    "    if(labelint > 69 and labelint <= 73):\n",
    "        label_norm.append('7')\n",
    "    if(labelint > 73 and labelint <= 77):\n",
    "        label_norm.append('8')\n",
    "    if(labelint > 77 and labelint <= 81):\n",
    "        label_norm.append('9')\n",
    "    if(labelint > 81 and labelint <= 85):\n",
    "        label_norm.append('10')\n",
    "    if(labelint > 85 and labelint <= 89):\n",
    "        label_norm.append('11')\n",
    "    if(labelint > 89 and labelint <= 93):\n",
    "        label_norm.append('12')\n",
    "    if(labelint > 93 and labelint <= 97):\n",
    "        label_norm.append('13')\n",
    "    if(labelint > 97 and labelint <= 101):\n",
    "        label_norm.append('14')\n",
    "    if(labelint > 101 and labelint <= 105):\n",
    "        label_norm.append('15')\n",
    "    if(labelint > 105 and labelint <= 109):\n",
    "        label_norm.append('16')\n",
    "    if(labelint > 109 and labelint <= 113):\n",
    "        label_norm.append('17')"
   ]
  },
  {
   "cell_type": "code",
   "execution_count": 156,
   "metadata": {},
   "outputs": [],
   "source": [
    "imgaepath_gdi_df['label_norm']=pd.Series(label_norm).values"
   ]
  },
  {
   "cell_type": "code",
   "execution_count": 160,
   "metadata": {},
   "outputs": [
    {
     "data": {
      "text/html": [
       "<div>\n",
       "<style scoped>\n",
       "    .dataframe tbody tr th:only-of-type {\n",
       "        vertical-align: middle;\n",
       "    }\n",
       "\n",
       "    .dataframe tbody tr th {\n",
       "        vertical-align: top;\n",
       "    }\n",
       "\n",
       "    .dataframe thead th {\n",
       "        text-align: right;\n",
       "    }\n",
       "</style>\n",
       "<table border=\"1\" class=\"dataframe\">\n",
       "  <thead>\n",
       "    <tr style=\"text-align: right;\">\n",
       "      <th></th>\n",
       "      <th>image_path</th>\n",
       "      <th>labels</th>\n",
       "      <th>label_norm</th>\n",
       "    </tr>\n",
       "  </thead>\n",
       "  <tbody>\n",
       "    <tr>\n",
       "      <th>0</th>\n",
       "      <td>./data/densepose-out\\07337701-processed\\000053...</td>\n",
       "      <td>53.457512</td>\n",
       "      <td>2</td>\n",
       "    </tr>\n",
       "    <tr>\n",
       "      <th>1</th>\n",
       "      <td>./data/densepose-out\\07337701-processed\\000054...</td>\n",
       "      <td>53.457512</td>\n",
       "      <td>2</td>\n",
       "    </tr>\n",
       "    <tr>\n",
       "      <th>2</th>\n",
       "      <td>./data/densepose-out\\07337701-processed\\000055...</td>\n",
       "      <td>53.457512</td>\n",
       "      <td>2</td>\n",
       "    </tr>\n",
       "    <tr>\n",
       "      <th>3</th>\n",
       "      <td>./data/densepose-out\\07337701-processed\\000056...</td>\n",
       "      <td>53.457512</td>\n",
       "      <td>2</td>\n",
       "    </tr>\n",
       "    <tr>\n",
       "      <th>4</th>\n",
       "      <td>./data/densepose-out\\07337701-processed\\000057...</td>\n",
       "      <td>53.457512</td>\n",
       "      <td>2</td>\n",
       "    </tr>\n",
       "  </tbody>\n",
       "</table>\n",
       "</div>"
      ],
      "text/plain": [
       "                                          image_path     labels label_norm\n",
       "0  ./data/densepose-out\\07337701-processed\\000053...  53.457512          2\n",
       "1  ./data/densepose-out\\07337701-processed\\000054...  53.457512          2\n",
       "2  ./data/densepose-out\\07337701-processed\\000055...  53.457512          2\n",
       "3  ./data/densepose-out\\07337701-processed\\000056...  53.457512          2\n",
       "4  ./data/densepose-out\\07337701-processed\\000057...  53.457512          2"
      ]
     },
     "execution_count": 160,
     "metadata": {},
     "output_type": "execute_result"
    }
   ],
   "source": [
    "imgaepath_gdi_df.head()"
   ]
  },
  {
   "cell_type": "code",
   "execution_count": 24,
   "metadata": {},
   "outputs": [],
   "source": [
    "image_file_path2 = []\n",
    "labels2 = []\n",
    "for root, dirs, files in os.walk('./data/densepose-out'):\n",
    "    if(root.endswith('processed')):\n",
    "        image_dir_name = (root[root.rfind('\\\\')+1:])\n",
    "        if(d_mergedgdiavg_new_df['Video_File'].str.contains(image_dir_name, na=False).any()):\n",
    "            img_cnt = 0\n",
    "            for file in files:\n",
    "                if(file.endswith('_IUV.png')):\n",
    "                    image_file_path2.append(os.path.join(root, file))\n",
    "                    labels2.append(d_mergedgdiavg_new_df.GDI[d_mergedgdiavg_new_df['Video_File'].str.contains(image_dir_name, na=False)].values[0])\n",
    "                    img_cnt+=1\n",
    "                    if(img_cnt>10):\n",
    "                        break;"
   ]
  },
  {
   "cell_type": "code",
   "execution_count": 25,
   "metadata": {},
   "outputs": [],
   "source": [
    "image_path_series2=pd.Series(image_file_path2)\n",
    "labels_series2=pd.Series(labels2)\n",
    "imgaepath_gdi_df2 = pd.DataFrame()\n",
    "imgaepath_gdi_df2['image_path']=image_path_series2.values\n",
    "imgaepath_gdi_df2['labels']=labels_series2.values\n",
    "imgaepath_gdi_df2.head()\n",
    "imgaepath_gdi_df2.to_csv('./data/test/labels/imagepath_gdi_10.csv')"
   ]
  },
  {
   "cell_type": "code",
   "execution_count": 162,
   "metadata": {},
   "outputs": [],
   "source": [
    "label_norm=[]\n",
    "for labels in imgaepath_gdi_df2['labels']:\n",
    "    #print(int(round(labels)))\n",
    "    labelint = int(round(labels))\n",
    "    if(labelint <= 45):\n",
    "        label_norm.append('0')\n",
    "    if(labelint > 45 and labelint <= 49):\n",
    "        label_norm.append('1')\n",
    "    if(labelint > 49 and labelint <= 53):\n",
    "        label_norm.append('2')\n",
    "    if(labelint > 53 and labelint <= 57):\n",
    "        label_norm.append('3')\n",
    "    if(labelint > 57 and labelint <= 61):\n",
    "        label_norm.append('4')\n",
    "    if(labelint > 61 and labelint <= 65):\n",
    "        label_norm.append('5')\n",
    "    if(labelint > 65 and labelint <= 69):\n",
    "        label_norm.append('6')\n",
    "    if(labelint > 69 and labelint <= 73):\n",
    "        label_norm.append('7')\n",
    "    if(labelint > 73 and labelint <= 77):\n",
    "        label_norm.append('8')\n",
    "    if(labelint > 77 and labelint <= 81):\n",
    "        label_norm.append('9')\n",
    "    if(labelint > 81 and labelint <= 85):\n",
    "        label_norm.append('10')\n",
    "    if(labelint > 85 and labelint <= 89):\n",
    "        label_norm.append('11')\n",
    "    if(labelint > 89 and labelint <= 93):\n",
    "        label_norm.append('12')\n",
    "    if(labelint > 93 and labelint <= 97):\n",
    "        label_norm.append('13')\n",
    "    if(labelint > 97 and labelint <= 101):\n",
    "        label_norm.append('14')\n",
    "    if(labelint > 101 and labelint <= 105):\n",
    "        label_norm.append('15')\n",
    "    if(labelint > 105 and labelint <= 109):\n",
    "        label_norm.append('16')\n",
    "    if(labelint > 109 and labelint <= 113):\n",
    "        label_norm.append('17')"
   ]
  },
  {
   "cell_type": "code",
   "execution_count": 163,
   "metadata": {},
   "outputs": [],
   "source": [
    "imgaepath_gdi_df2['labels_norm']=pd.Series(label_norm).values\n",
    "imgaepath_gdi_df2.to_csv('./data/test/labels/imagepath_gdi_10.csv')"
   ]
  },
  {
   "cell_type": "code",
   "execution_count": 27,
   "metadata": {},
   "outputs": [],
   "source": [
    "msk = np.random.rand(len(imgaepath_gdi_df2)) < 0.8\n",
    "train=imgaepath_gdi_df2[msk]\n",
    "validation=imgaepath_gdi_df2[~msk]"
   ]
  },
  {
   "cell_type": "code",
   "execution_count": 28,
   "metadata": {},
   "outputs": [
    {
     "data": {
      "text/plain": [
       "3834"
      ]
     },
     "execution_count": 28,
     "metadata": {},
     "output_type": "execute_result"
    }
   ],
   "source": [
    "len(train)"
   ]
  },
  {
   "cell_type": "code",
   "execution_count": 30,
   "metadata": {},
   "outputs": [
    {
     "data": {
      "text/plain": [
       "951"
      ]
     },
     "execution_count": 30,
     "metadata": {},
     "output_type": "execute_result"
    }
   ],
   "source": [
    "len(validation)"
   ]
  },
  {
   "cell_type": "code",
   "execution_count": 31,
   "metadata": {},
   "outputs": [
    {
     "data": {
      "text/html": [
       "<div>\n",
       "<style scoped>\n",
       "    .dataframe tbody tr th:only-of-type {\n",
       "        vertical-align: middle;\n",
       "    }\n",
       "\n",
       "    .dataframe tbody tr th {\n",
       "        vertical-align: top;\n",
       "    }\n",
       "\n",
       "    .dataframe thead th {\n",
       "        text-align: right;\n",
       "    }\n",
       "</style>\n",
       "<table border=\"1\" class=\"dataframe\">\n",
       "  <thead>\n",
       "    <tr style=\"text-align: right;\">\n",
       "      <th></th>\n",
       "      <th>image_path</th>\n",
       "      <th>labels</th>\n",
       "    </tr>\n",
       "  </thead>\n",
       "  <tbody>\n",
       "    <tr>\n",
       "      <th>0</th>\n",
       "      <td>./data/densepose-out\\07337701-processed\\000053...</td>\n",
       "      <td>53.457512</td>\n",
       "    </tr>\n",
       "    <tr>\n",
       "      <th>1</th>\n",
       "      <td>./data/densepose-out\\07337701-processed\\000054...</td>\n",
       "      <td>53.457512</td>\n",
       "    </tr>\n",
       "    <tr>\n",
       "      <th>2</th>\n",
       "      <td>./data/densepose-out\\07337701-processed\\000055...</td>\n",
       "      <td>53.457512</td>\n",
       "    </tr>\n",
       "    <tr>\n",
       "      <th>3</th>\n",
       "      <td>./data/densepose-out\\07337701-processed\\000056...</td>\n",
       "      <td>53.457512</td>\n",
       "    </tr>\n",
       "    <tr>\n",
       "      <th>4</th>\n",
       "      <td>./data/densepose-out\\07337701-processed\\000057...</td>\n",
       "      <td>53.457512</td>\n",
       "    </tr>\n",
       "  </tbody>\n",
       "</table>\n",
       "</div>"
      ],
      "text/plain": [
       "                                          image_path     labels\n",
       "0  ./data/densepose-out\\07337701-processed\\000053...  53.457512\n",
       "1  ./data/densepose-out\\07337701-processed\\000054...  53.457512\n",
       "2  ./data/densepose-out\\07337701-processed\\000055...  53.457512\n",
       "3  ./data/densepose-out\\07337701-processed\\000056...  53.457512\n",
       "4  ./data/densepose-out\\07337701-processed\\000057...  53.457512"
      ]
     },
     "execution_count": 31,
     "metadata": {},
     "output_type": "execute_result"
    }
   ],
   "source": [
    "train.head()"
   ]
  },
  {
   "cell_type": "code",
   "execution_count": 2,
   "metadata": {},
   "outputs": [],
   "source": [
    "def ImportImage(filepath):\n",
    "    #print(filepath)\n",
    "    img = Image.open(filepath)\n",
    "    return np.array(img)"
   ]
  },
  {
   "cell_type": "code",
   "execution_count": 38,
   "metadata": {},
   "outputs": [
    {
     "data": {
      "image/png": "[encoded data removed]",
      "text/plain": [
       "<PIL.PngImagePlugin.PngImageFile image mode=RGB size=640x480 at 0x2A11D43BF60>"
      ]
     },
     "execution_count": 38,
     "metadata": {},
     "output_type": "execute_result"
    }
   ],
   "source": [
    "img"
   ]
  },
  {
   "cell_type": "code",
   "execution_count": 40,
   "metadata": {},
   "outputs": [
    {
     "name": "stdout",
     "output_type": "stream",
     "text": [
      "(480, 640, 3)\n"
     ]
    }
   ],
   "source": [
    "print(np.array(img).shape)"
   ]
  },
  {
   "cell_type": "code",
   "execution_count": 3,
   "metadata": {},
   "outputs": [],
   "source": [
    "imagepaths_labels = pd.read_csv('./data/test/labels/imagepath_gdi_10.csv')\n",
    "msk = np.random.rand(len(imagepaths_labels)) < 0.8\n",
    "train=imagepaths_labels[msk]\n",
    "validation=imagepaths_labels[~msk]"
   ]
  },
  {
   "cell_type": "code",
   "execution_count": 4,
   "metadata": {},
   "outputs": [],
   "source": [
    "train_imgs = np.array([ImportImage(img) for img in train['image_path'].values])\n",
    "train_labels = np.array([label for label in train['labels_norm'].values])\n",
    "validation_imgs = np.array([ImportImage(img) for img in validation['image_path'].values])\n",
    "validation_labels = np.array([label for label in validation['labels_norm'].values])"
   ]
  },
  {
   "cell_type": "code",
   "execution_count": 5,
   "metadata": {},
   "outputs": [
    {
     "name": "stdout",
     "output_type": "stream",
     "text": [
      "train images shape :  (3834, 480, 640, 3)\n",
      "train labels shape :  (3834,)\n",
      "validation images shape :  (951, 480, 640, 3)\n",
      "validation labels shape :  (951,)\n"
     ]
    }
   ],
   "source": [
    "print('train images shape : ',train_imgs.shape)\n",
    "print('train labels shape : ',train_labels.shape)\n",
    "print('validation images shape : ',validation_imgs.shape)\n",
    "print('validation labels shape : ',validation_labels.shape)"
   ]
  },
  {
   "cell_type": "code",
   "execution_count": 141,
   "metadata": {},
   "outputs": [
    {
     "data": {
      "text/plain": [
       "113.2733105096525"
      ]
     },
     "execution_count": 141,
     "metadata": {},
     "output_type": "execute_result"
    }
   ],
   "source": [
    "#imagepaths_labels.labels.unique().count()\n",
    "#imagepaths_labels.groupby('labels')['image_path'].nunique()\n",
    "#imagepaths_labels.labels.round()\n",
    "imagepaths_labels.at[imagepaths_labels['labels'].idxmax(),'labels']"
   ]
  },
  {
   "cell_type": "code",
   "execution_count": 142,
   "metadata": {},
   "outputs": [
    {
     "data": {
      "text/plain": [
       "41.14290534476204"
      ]
     },
     "execution_count": 142,
     "metadata": {},
     "output_type": "execute_result"
    }
   ],
   "source": [
    "imagepaths_labels.at[imagepaths_labels['labels'].idxmin(),'labels']"
   ]
  },
  {
   "cell_type": "code",
   "execution_count": 167,
   "metadata": {},
   "outputs": [
    {
     "name": "stdout",
     "output_type": "stream",
     "text": [
      "3834 training images\n",
      "Nbr of samples/class\tNbr of classes\n",
      "9\t\t\t1\n",
      "10\t\t\t1\n",
      "17\t\t\t1\n",
      "22\t\t\t1\n",
      "49\t\t\t1\n",
      "65\t\t\t1\n",
      "68\t\t\t1\n",
      "79\t\t\t1\n",
      "104\t\t\t1\n",
      "149\t\t\t1\n",
      "270\t\t\t1\n",
      "304\t\t\t1\n",
      "337\t\t\t1\n",
      "383\t\t\t1\n",
      "388\t\t\t1\n",
      "467\t\t\t1\n",
      "528\t\t\t1\n",
      "585\t\t\t1\n"
     ]
    }
   ],
   "source": [
    "print( \"%d training images\" %train_imgs.shape[0])\n",
    "\n",
    "print( \"Nbr of samples/class\\tNbr of classes\")\n",
    "for index, val in train['labels_norm'].value_counts().value_counts().sort_index().iteritems():\n",
    "    print( \"%d\\t\\t\\t%d\" %(index,val))"
   ]
  },
  {
   "cell_type": "code",
   "execution_count": 168,
   "metadata": {},
   "outputs": [
    {
     "name": "stdout",
     "output_type": "stream",
     "text": [
      "951 training images\n",
      "Nbr of samples/class\tNbr of classes\n",
      "1\t\t\t1\n",
      "2\t\t\t1\n",
      "5\t\t\t1\n",
      "9\t\t\t1\n",
      "11\t\t\t1\n",
      "12\t\t\t1\n",
      "17\t\t\t1\n",
      "20\t\t\t1\n",
      "28\t\t\t1\n",
      "49\t\t\t1\n",
      "71\t\t\t1\n",
      "81\t\t\t1\n",
      "85\t\t\t1\n",
      "90\t\t\t1\n",
      "92\t\t\t1\n",
      "116\t\t\t1\n",
      "121\t\t\t1\n",
      "141\t\t\t1\n"
     ]
    }
   ],
   "source": [
    "print( \"%d training images\" %validation_imgs.shape[0])\n",
    "\n",
    "print( \"Nbr of samples/class\\tNbr of classes\")\n",
    "for index, val in validation['labels_norm'].value_counts().value_counts().sort_index().iteritems():\n",
    "    print( \"%d\\t\\t\\t%d\" %(index,val))"
   ]
  },
  {
   "cell_type": "code",
   "execution_count": 117,
   "metadata": {},
   "outputs": [],
   "source": [
    "ImageToLabelDict = dict( zip( train['image_path'], train['labels']))\n",
    "class LabelOneHotEncoder():\n",
    "    def __init__(self):\n",
    "        self.ohe = OneHotEncoder()\n",
    "        self.le = LabelEncoder()\n",
    "    def fit_transform(self, x):\n",
    "        features = self.le.fit_transform( x)\n",
    "        return self.ohe.fit_transform( features.reshape(-1,1))\n",
    "    def transform( self, x):\n",
    "        return self.ohe.transform( self.la.transform( x.reshape(-1,1)))\n",
    "    def inverse_tranform( self, x):\n",
    "        return self.le.inverse_transform( self.ohe.inverse_tranform( x))\n",
    "    def inverse_labels( self, x):\n",
    "        return self.le.inverse_transform( x)\n",
    "\n",
    "y = list(map(ImageToLabelDict.get, train['image_path']))\n",
    "lohe = LabelOneHotEncoder()\n",
    "ylabels = lohe.fit_transform(y)"
   ]
  },
  {
   "cell_type": "code",
   "execution_count": 120,
   "metadata": {},
   "outputs": [],
   "source": [
    "ImageToLabelDict_valid = dict( zip( validation['image_path'], validation['labels']))\n",
    "class LabelOneHotEncoder():\n",
    "    def __init__(self):\n",
    "        self.ohe = OneHotEncoder()\n",
    "        self.le = LabelEncoder()\n",
    "    def fit_transform(self, x):\n",
    "        features = self.le.fit_transform( x)\n",
    "        return self.ohe.fit_transform( features.reshape(-1,1))\n",
    "    def transform( self, x):\n",
    "        return self.ohe.transform( self.la.transform( x.reshape(-1,1)))\n",
    "    def inverse_tranform( self, x):\n",
    "        return self.le.inverse_transform( self.ohe.inverse_tranform( x))\n",
    "    def inverse_labels( self, x):\n",
    "        return self.le.inverse_transform( x)\n",
    "\n",
    "y_valid = list(map(ImageToLabelDict_valid.get, validation['image_path']))\n",
    "lohe_valid = LabelOneHotEncoder()\n",
    "ylabels_valid = lohe.fit_transform(y_valid)"
   ]
  },
  {
   "cell_type": "code",
   "execution_count": 124,
   "metadata": {},
   "outputs": [
    {
     "name": "stdout",
     "output_type": "stream",
     "text": [
      "(3834, 435)\n"
     ]
    }
   ],
   "source": [
    "print(ylabels.shape)"
   ]
  },
  {
   "cell_type": "code",
   "execution_count": 125,
   "metadata": {},
   "outputs": [
    {
     "name": "stdout",
     "output_type": "stream",
     "text": [
      "(951, 393)\n"
     ]
    }
   ],
   "source": [
    "print(ylabels_valid.shape)"
   ]
  },
  {
   "cell_type": "code",
   "execution_count": 6,
   "metadata": {},
   "outputs": [],
   "source": [
    "def step_decay(initial_lrate,epochs_drop,drop_factor):\n",
    "    def step_decay_fcn(epoch):\n",
    "        return initial_lrate * math.pow(drop_factor, math.floor((1+epoch)/epochs_drop))\n",
    "    return step_decay_fcn\n",
    "\n",
    "checkpoint_folder = \"./cnn_checkpoints_gdicnn\"\n",
    "batch_size  = 32\n",
    "num_classes = len(train_labels)\n",
    "epochs = 10\n",
    "epochs_drop,drop_factor = (10,0.8)\n",
    "input_shape = train_imgs[0].shape\n",
    "kernel_size = 8\n",
    "conv_dim = 64\n",
    "initial_lrate = 0.001\n",
    "dropout_amount = 0.5\n",
    "l2_lambda = 10**(-3.5)\n",
    "last_layer_dim=18"
   ]
  },
  {
   "cell_type": "code",
   "execution_count": 11,
   "metadata": {},
   "outputs": [],
   "source": [
    "model = Sequential()\n",
    "model.add(Conv2D(conv_dim, kernel_size=kernel_size, input_shape=input_shape, padding='same'))\n",
    "model.add(Activation('relu'))\n",
    "model.add(BatchNormalization())\n",
    "model.add(Conv2D(conv_dim,kernel_size=kernel_size,padding='same'))\n",
    "model.add(Activation('relu'))\n",
    "model.add(BatchNormalization())\n",
    "model.add(MaxPooling2D(pool_size=2))\n",
    "model.add(Dropout(dropout_amount))\n",
    "model.add(Conv2D(conv_dim,kernel_size=kernel_size,padding='same',kernel_regularizer=keras.regularizers.l2(l2_lambda)))\n",
    "model.add(Activation('relu'))\n",
    "model.add(BatchNormalization())\n",
    "model.add(Conv2D(conv_dim,kernel_size=kernel_size,padding='same',kernel_regularizer=keras.regularizers.l2(l2_lambda)))\n",
    "model.add(Activation('relu'))\n",
    "model.add(BatchNormalization())\n",
    "model.add(MaxPooling2D(pool_size=2))\n",
    "model.add(Dropout(dropout_amount))\n",
    "model.add(Conv2D(conv_dim,kernel_size=kernel_size,padding='same',kernel_regularizer=keras.regularizers.l2(l2_lambda)))\n",
    "model.add(Activation('relu'))\n",
    "model.add(BatchNormalization())\n",
    "model.add(Conv2D(conv_dim,kernel_size=kernel_size,padding='same',kernel_regularizer=keras.regularizers.l2(l2_lambda)))\n",
    "model.add(Activation('relu'))\n",
    "model.add(BatchNormalization())\n",
    "model.add(MaxPooling2D(pool_size=3))\n",
    "model.add(Dropout(dropout_amount))\n",
    "model.add(Flatten())\n",
    "model.add(Dense(last_layer_dim,activation='relu'))\n",
    "model.add(Dense(1, activation='linear'))"
   ]
  },
  {
   "cell_type": "code",
   "execution_count": null,
   "metadata": {},
   "outputs": [
    {
     "name": "stdout",
     "output_type": "stream",
     "text": [
      "Train on 3834 samples, validate on 951 samples\n",
      "Epoch 1/10\n"
     ]
    }
   ],
   "source": [
    "train_model = True\n",
    "\n",
    "if not os.path.exists(checkpoint_folder):\n",
    "    os.makedirs(checkpoint_folder)\n",
    "\n",
    "filepath=checkpoint_folder+\"/weights-{epoch:02d}-{val_loss_2:.4f}.hdf5\"\n",
    "if train_model:\n",
    "\n",
    "    #opt = RMSprop(lr=0.0,rho=0.9, epsilon=1e-08, decay=0.0)\n",
    "    #model.compile(loss=mse_opt,metrics=[mse_metric],optimizer=opt)\n",
    "    model.compile(loss=keras.losses.sparse_categorical_crossentropy, optimizer=keras.optimizers.Adadelta(), metrics=['accuracy'])\n",
    "\n",
    "\n",
    "    checkpoint = \\\n",
    "        ModelCheckpoint(filepath, monitor='val_loss_2', verbose=1, save_best_only=False, save_weights_only=False, mode='auto', period=1)\n",
    "\n",
    "    lr = LearningRateScheduler(step_decay(initial_lrate,epochs_drop,drop_factor))\n",
    "\n",
    "    history = model.fit(train_imgs, train_labels,callbacks=[checkpoint,lr,TerminateOnNaN()],\n",
    "              validation_data=(validation_imgs,validation_labels),\n",
    "              batch_size=batch_size, epochs=epochs,shuffle=True)"
   ]
  },
  {
   "cell_type": "code",
   "execution_count": null,
   "metadata": {},
   "outputs": [],
   "source": []
  }
 ],
 "metadata": {
  "kernelspec": {
   "display_name": "Python 3",
   "language": "python",
   "name": "python3"
  },
  "language_info": {
   "codemirror_mode": {
    "name": "ipython",
    "version": 3
   },
   "file_extension": ".py",
   "mimetype": "text/x-python",
   "name": "python",
   "nbconvert_exporter": "python",
   "pygments_lexer": "ipython3",
   "version": "3.7.1"
  }
 },
 "nbformat": 4,
 "nbformat_minor": 2
}
