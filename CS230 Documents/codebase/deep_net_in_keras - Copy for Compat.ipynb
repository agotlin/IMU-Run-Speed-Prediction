{
 "cells": [
  {
   "cell_type": "markdown",
   "metadata": {},
   "source": [
    "# COPY - Lumo Run - Deep Fully Connected Neural Network"
   ]
  },
  {
   "cell_type": "markdown",
   "metadata": {},
   "source": [
    "#### This copy of the original document has minor modifications to ensure compatibility (i.e. after folder changes)"
   ]
  },
  {
   "cell_type": "markdown",
   "metadata": {},
   "source": [
    "#### Load dependencies"
   ]
  },
  {
   "cell_type": "code",
   "execution_count": 1,
   "metadata": {},
   "outputs": [
    {
     "name": "stderr",
     "output_type": "stream",
     "text": [
      "C:\\Users\\adam\\Anaconda3\\lib\\site-packages\\h5py\\__init__.py:36: FutureWarning: Conversion of the second argument of issubdtype from `float` to `np.floating` is deprecated. In future, it will be treated as `np.float64 == np.dtype(float).type`.\n",
      "  from ._conv import register_converters as _register_converters\n",
      "Using TensorFlow backend.\n"
     ]
    }
   ],
   "source": [
    "import keras\n",
    "from keras.datasets import mnist\n",
    "from keras.models import Sequential\n",
    "from keras.layers import Dense\n",
    "from keras.layers import Dropout \n",
    "from keras.layers.normalization import BatchNormalization \n",
    "from keras import regularizers \n",
    "from keras.optimizers import SGD\n",
    "\n",
    "import pandas as pd\n",
    "import numpy as np\n",
    "import matplotlib.pyplot as plt\n",
    "from scipy import stats\n",
    "import tensorflow as tf\n",
    "from datetime import datetime\n",
    "from dateutil import tz\n",
    "from IPython import embed\n",
    "import time\n",
    "import socket\n",
    "\n",
    "from pathlib import Path\n",
    "from sklearn.metrics import confusion_matrix \n",
    "\n",
    "np.random.seed(7) # Set seed for reproducibility"
   ]
  },
  {
   "cell_type": "markdown",
   "metadata": {},
   "source": [
    "#### Set Hyperparameters"
   ]
  },
  {
   "cell_type": "code",
   "execution_count": 2,
   "metadata": {},
   "outputs": [],
   "source": [
    "# Data Setup\n",
    "num_channels = 7 # number of channels of data (i.e. 7 kinematic and 4 anthropometric)\n",
    "num_anthropometrics = 4\n",
    "input_num_timestamps = 11 # number of timestamps used in the input for prediction\n",
    "label_window_size = 5 # number of timestamps used to label the speed we will be predicting\n",
    "speed_bucket_size = '0.1' # how to round the data for classification. Consider '0.5', '0.1', and 'none_use_regression'\n",
    "myFileLocation = 'C:/Users/adam/Documents/CS 230/Project/Lumo Data/TimeSeries_InputVector_100runs.csv' # CHANGED\n",
    "        # Other data files to use:\n",
    "        # '../datasets/SAMPLE_TimeSeries_Longest1000Runs_wAnthro_MultiLabeledSpeed_20180523.csv'\n",
    "        # '../datasets/quarter-big.csv'\n",
    "        # '../datasets/TimeSeries_InputVector_15runs.csv'\n",
    "        # 'C:/Users/adam/Documents/CS 230/Project/TimeSeries_InputVector_100runs.csv'\n",
    "\n",
    "# Architecture\n",
    "num_layers = 6 # for documentation purposes\n",
    "num_hidden_units_L1 = 256\n",
    "num_hidden_units_L2 = 256\n",
    "num_hidden_units_L3 = 256\n",
    "num_hidden_units_L4 = 128\n",
    "num_hidden_units_L5 = 128\n",
    "num_hidden_units_L6 = 128\n",
    "\n",
    "activations_strategy = 'r-r-r-r-r-r' # for documentation purposes\n",
    "activation_L1 = 'relu'\n",
    "activation_L2 = 'relu'\n",
    "activation_L3 = 'relu'\n",
    "activation_L4 = 'relu'\n",
    "activation_L5 = 'relu'\n",
    "activation_L6 = 'relu'\n",
    "\n",
    "dropout_rates = '1-1-1-.8-.8-.8' # documentation\n",
    "dropout_rate_L1 = 1.0 \n",
    "dropout_rate_L2 = 1.0\n",
    "dropout_rate_L3 = 1.0\n",
    "dropout_rate_L4 = 0.8\n",
    "dropout_rate_L5 = 0.8\n",
    "dropout_rate_L6 = 0.8\n",
    "\n",
    "# Training strategy\n",
    "batch_size = 128\n",
    "learning_rate = 0.0001\n",
    "training_epochs = 5 # CHANGED\n",
    "loss_function = 'categorical_crossentropy' # 'categorical_crossentropy' ,'mse', 'mae', 'class_mse', 'class_mae'"
   ]
  },
  {
   "cell_type": "markdown",
   "metadata": {},
   "source": [
    "#### Set Up Automatic Reporting and Plotting"
   ]
  },
  {
   "cell_type": "code",
   "execution_count": 3,
   "metadata": {},
   "outputs": [],
   "source": [
    "#Ploting and Reporting\n",
    "accuracy_reporting_metric_1 = 'class_mae' # 'acc', 'class_percent_1buckRange', 'class_percent_2buckRange'\n",
    "dev_reporting_metric_1 = 'val_'+accuracy_reporting_metric_1\n",
    "accuracy_reporting_metric_2 = 'class_percent_2buckRange' # 'acc', 'class_percent_1buckRange', 'class_percent_2buckRange'\n",
    "dev_reporting_metric_2 = 'val_'+accuracy_reporting_metric_2\n",
    "accuracy_reporting_metric_3 = 'class_mse' # 'acc', 'class_percent_1buckRange', 'class_percent_2buckRange'\n",
    "dev_reporting_metric_3 = 'val_'+accuracy_reporting_metric_3\n",
    "\n",
    "plt.style.use('ggplot')"
   ]
  },
  {
   "cell_type": "code",
   "execution_count": 4,
   "metadata": {},
   "outputs": [
    {
     "name": "stdout",
     "output_type": "stream",
     "text": [
      "String to add to model filename, defaults to time stamp if nothing entered.\n",
      "Note you'd like to add to plot:\n",
      "enter the model name to load - leave blank to start fresh\n",
      "name of results file\n"
     ]
    }
   ],
   "source": [
    "# How to store file once model finishes\n",
    "\n",
    "name = input(\"String to add to model filename, defaults to time stamp if nothing entered.\")  \n",
    "if name == \"\":\n",
    "    name = time.time() #user input for filename of saved model, defaults to timestamp\n",
    "plot_note=input(\"Note you'd like to add to plot:\") #user input to add note to plot\n",
    "model_to_load=input(\"enter the model name to load - leave blank to start fresh\") #user input to load prev model\n",
    "results_file_name=input(\"name of results file\") # name of results file"
   ]
  },
  {
   "cell_type": "markdown",
   "metadata": {},
   "source": [
    "#### Define functions for data processing and plotting"
   ]
  },
  {
   "cell_type": "code",
   "execution_count": 5,
   "metadata": {},
   "outputs": [],
   "source": [
    "def read_data(file_path):\n",
    "    data = pd.read_csv(file_path,header = 0) #This uses the header row (row 0) as the column names\n",
    "    return data\n",
    "\n",
    "def feature_normalize(dataset):\n",
    "    mu = np.mean(dataset,axis = 0)\n",
    "    sigma = np.std(dataset,axis = 0)\n",
    "    return (dataset - mu)/sigma\n",
    "\n",
    "def windows(data, size):\n",
    "    start = 0\n",
    "    while start < data.count():\n",
    "        yield int(start), int(start + size)\n",
    "        start += 1 #(size / 2)\n",
    "\n",
    "# Used for vectorized input WITH SQL pre-processing\n",
    "def segment_signal_vector(data):\n",
    "    dataframe_input = data.loc[:, 'gender':'pelvic_tilt_lag_0'] # select all columns from gender to pelvic_tilt_lag_0\n",
    "    dataframe_labels = data.loc[:, 'gps_speed_lag_7':'gps_speed_lag_3'] # select all columns from gender to pelvic_tilt_lag_0\n",
    "    segments = dataframe_input.values\n",
    "    labels_before_avg = dataframe_labels.values\n",
    "    if speed_bucket_size == '0.1':\n",
    "        labels = np.around(np.mean(labels_before_avg, axis=1),decimals=1)\n",
    "    elif speed_bucket_size == '0.5':\n",
    "        labels = np.around(2*np.mean(labels_before_avg, axis=1),decimals=0)/2\n",
    "    elif speed_bucket_size == 'none_use_regression':\n",
    "        labels = np.mean(labels_before_avg, axis=1)\n",
    "    return segments, labels\n",
    "\n",
    "# Used for vectorized input WITHOUT SQL pre-processing\n",
    "def segment_signal(data,input_num_timestamps = input_num_timestamps):\n",
    "    segments = np.empty((0,input_num_timestamps*num_channels + num_anthropometrics))\n",
    "    labels = np.empty((0))\n",
    "    for (start, end) in windows(data['timestamp'], input_num_timestamps):\n",
    "        aa = data[\"age\"][start]\n",
    "        bb = data[\"weight\"][start]\n",
    "        cc = data[\"height\"][start]\n",
    "        dd = data[\"gender\"][start] \n",
    "        a = data[\"bounce\"][start:end]\n",
    "        b = data[\"braking\"][start:end]\n",
    "        c = data[\"cadence\"][start:end]\n",
    "        d = data[\"ground_contact\"][start:end]\n",
    "        e = data[\"pelvic_drop\"][start:end]\n",
    "        f = data[\"pelvic_rotation\"][start:end]\n",
    "        g = data[\"pelvic_tilt\"][start:end]\n",
    "        if(end < data.shape[0] and\n",
    "           len(data['timestamp'][start:end]) == input_num_timestamps and data['activity_id'][start]==data['activity_id'][end]):\n",
    "            segments_toadd = np.vstack([np.dstack([a,b,c,d,e,f,g])])\n",
    "            segments_toadd_reshape = segments_toadd.reshape(input_num_timestamps * num_channels)\n",
    "            segments = np.vstack([segments,np.hstack([aa,bb,cc,dd,segments_toadd_reshape])])\n",
    "            start_labeling = np.int(np.floor(start+(end-start)/2) - np.floor(label_window_size/2))\n",
    "            end_labeling = start_labeling + label_window_size\n",
    "            if speed_bucket_size == '0.1':\n",
    "                labels = np.append(labels,np.around(np.mean(data[\"gps_speed_true\"][start_labeling:end_labeling]),decimals=1)) # round to nearest decimal\n",
    "            elif speed_bucket_size == '0.5':\n",
    "                labels = np.append(labels,np.around(2*np.mean(data[\"gps_speed_true\"][start_labeling:end_labeling]),decimals=0)/2) # round to nearest half unit\n",
    "            elif speed_bucket_size == 'none_use_regression':\n",
    "                labels = np.append(labels,np.mean(data[\"gps_speed_true\"][start_labeling:end_labeling])) # no rounding, use regression\n",
    "    return segments, labels\n",
    "\n",
    "def load_results_file(results_file_name):\n",
    "    my_file = Path(\"../results/\"+results_file_name+\".csv\")\n",
    "    if my_file.is_file():\n",
    "        print(\"Found results file\")\n",
    "        prev_results=pd.read_csv(my_file,header=0)\n",
    "        print(list(prev_results.columns.values))\n",
    "        return prev_results\n",
    "    else:\n",
    "        print(\"no results file found - creating file\")\n",
    "        a=[[\"FCN\",\n",
    "            name,\n",
    "            \"na\",\n",
    "            myFileLocation,\n",
    "            training_epochs,\n",
    "            0.0,\n",
    "            0.0,\n",
    "            0.0,\n",
    "            0.0,\n",
    "            0.0,\n",
    "            0.0,\n",
    "            0.0,\n",
    "            batch_size,\n",
    "            num_layers,\n",
    "            activations_strategy,\n",
    "            dropout_rates,\n",
    "            learning_rate,\n",
    "            speed_bucket_size,\n",
    "            loss_function,\n",
    "            input_num_timestamps,\n",
    "            label_window_size,\n",
    "            \"\",\n",
    "            \"\",\n",
    "            \"\"\n",
    "            ]]\n",
    "        \n",
    "        df=pd.DataFrame(a, columns=[\"model type\",\n",
    "                                    \"model filename\",\n",
    "                                    \"plot filename\",\n",
    "                                    \"data filename\",\n",
    "                                    \"epochs\",\n",
    "                                    \"runtime\",\n",
    "                                    \"dev accuracy 1\",\n",
    "                                    \"train accuracy 1\",\n",
    "                                    \"dev accuracy 2\",\n",
    "                                    \"train accuracy 2\",\n",
    "                                    \"dev accuracy 3\",\n",
    "                                    \"train accuracy 4\",\n",
    "                                    \"batch_size\",\n",
    "                                    \"num_layers\",\n",
    "                                    \"activations_strategy\",\n",
    "                                    \"dropout_rates\",\n",
    "                                    \"learning_rate\",\n",
    "                                    \"speed_bucket_size\",\n",
    "                                    \"loss_function\",\n",
    "                                    \"input_num_timestamps\",\n",
    "                                    \"label_window_size\",\n",
    "                                    \"evaluation_metric_1\",\n",
    "                                    \"evaluation_metric_2\",\n",
    "                                    \"evaluation_metric_3\",])\n",
    "        \n",
    "        df.to_csv(\"../results/\"+results_file_name+\".csv\",index=False ) \n",
    "        return df"
   ]
  },
  {
   "cell_type": "markdown",
   "metadata": {},
   "source": [
    "#### Normalize Data"
   ]
  },
  {
   "cell_type": "code",
   "execution_count": 6,
   "metadata": {},
   "outputs": [],
   "source": [
    "dataset = read_data(myFileLocation)\n",
    "\n",
    "# For input without SQL pre-processing\n",
    "# dataset['bounce'] = feature_normalize(dataset['bounce'])\n",
    "# dataset['braking'] = feature_normalize(dataset['braking'])\n",
    "# dataset['cadence'] = feature_normalize(dataset['cadence'])\n",
    "# dataset['ground_contact'] = feature_normalize(dataset['ground_contact'])\n",
    "# dataset['pelvic_drop'] = feature_normalize(dataset['pelvic_drop'])\n",
    "# dataset['pelvic_rotation'] = feature_normalize(dataset['pelvic_rotation'])\n",
    "# dataset['pelvic_tilt'] = feature_normalize(dataset['pelvic_tilt'])\n",
    "# dataset['age'] = feature_normalize(dataset['age'])\n",
    "# dataset['weight'] = feature_normalize(dataset['weight'])\n",
    "# dataset['height'] = feature_normalize(dataset['height'])\n",
    "# dataset['gender'] = feature_normalize(dataset['gender'])\n",
    "\n",
    "# For input with SQL pre-processing\n",
    "dataset['gender'] = feature_normalize(dataset['gender'])\n",
    "dataset['age'] = feature_normalize(dataset['age'])\n",
    "dataset['height'] = feature_normalize(dataset['height'])\n",
    "dataset['weight'] = feature_normalize(dataset['weight'])\n",
    "dataset['bounce_lag_10'] = feature_normalize(dataset['bounce_lag_10'])\n",
    "dataset['bounce_lag_9'] = feature_normalize(dataset['bounce_lag_9'])\n",
    "dataset['bounce_lag_8'] = feature_normalize(dataset['bounce_lag_8'])\n",
    "dataset['bounce_lag_7'] = feature_normalize(dataset['bounce_lag_7'])\n",
    "dataset['bounce_lag_6'] = feature_normalize(dataset['bounce_lag_6'])\n",
    "dataset['bounce_lag_5'] = feature_normalize(dataset['bounce_lag_5'])\n",
    "dataset['bounce_lag_4'] = feature_normalize(dataset['bounce_lag_4'])\n",
    "dataset['bounce_lag_3'] = feature_normalize(dataset['bounce_lag_3'])\n",
    "dataset['bounce_lag_2'] = feature_normalize(dataset['bounce_lag_2'])\n",
    "dataset['bounce_lag_1'] = feature_normalize(dataset['bounce_lag_1'])\n",
    "dataset['bounce_lag_0'] = feature_normalize(dataset['bounce_lag_0'])\n",
    "dataset['braking_lag_10'] = feature_normalize(dataset['braking_lag_10'])\n",
    "dataset['braking_lag_9'] = feature_normalize(dataset['braking_lag_9'])\n",
    "dataset['braking_lag_8'] = feature_normalize(dataset['braking_lag_8'])\n",
    "dataset['braking_lag_7'] = feature_normalize(dataset['braking_lag_7'])\n",
    "dataset['braking_lag_6'] = feature_normalize(dataset['braking_lag_6'])\n",
    "dataset['braking_lag_5'] = feature_normalize(dataset['braking_lag_5'])\n",
    "dataset['braking_lag_4'] = feature_normalize(dataset['braking_lag_4'])\n",
    "dataset['braking_lag_3'] = feature_normalize(dataset['braking_lag_3'])\n",
    "dataset['braking_lag_2'] = feature_normalize(dataset['braking_lag_2'])\n",
    "dataset['braking_lag_1'] = feature_normalize(dataset['braking_lag_1'])\n",
    "dataset['braking_lag_0'] = feature_normalize(dataset['braking_lag_0'])\n",
    "dataset['cadence_lag_10'] = feature_normalize(dataset['cadence_lag_10'])\n",
    "dataset['cadence_lag_9'] = feature_normalize(dataset['cadence_lag_9'])\n",
    "dataset['cadence_lag_8'] = feature_normalize(dataset['cadence_lag_8'])\n",
    "dataset['cadence_lag_7'] = feature_normalize(dataset['cadence_lag_7'])\n",
    "dataset['cadence_lag_6'] = feature_normalize(dataset['cadence_lag_6'])\n",
    "dataset['cadence_lag_5'] = feature_normalize(dataset['cadence_lag_5'])\n",
    "dataset['cadence_lag_4'] = feature_normalize(dataset['cadence_lag_4'])\n",
    "dataset['cadence_lag_3'] = feature_normalize(dataset['cadence_lag_3'])\n",
    "dataset['cadence_lag_2'] = feature_normalize(dataset['cadence_lag_2'])\n",
    "dataset['cadence_lag_1'] = feature_normalize(dataset['cadence_lag_1'])\n",
    "dataset['cadence_lag_0'] = feature_normalize(dataset['cadence_lag_0'])\n",
    "dataset['ground_contact_lag_10'] = feature_normalize(dataset['ground_contact_lag_10'])\n",
    "dataset['ground_contact_lag_9'] = feature_normalize(dataset['ground_contact_lag_9'])\n",
    "dataset['ground_contact_lag_8'] = feature_normalize(dataset['ground_contact_lag_8'])\n",
    "dataset['ground_contact_lag_7'] = feature_normalize(dataset['ground_contact_lag_7'])\n",
    "dataset['ground_contact_lag_6'] = feature_normalize(dataset['ground_contact_lag_6'])\n",
    "dataset['ground_contact_lag_5'] = feature_normalize(dataset['ground_contact_lag_5'])\n",
    "dataset['ground_contact_lag_4'] = feature_normalize(dataset['ground_contact_lag_4'])\n",
    "dataset['ground_contact_lag_3'] = feature_normalize(dataset['ground_contact_lag_3'])\n",
    "dataset['ground_contact_lag_2'] = feature_normalize(dataset['ground_contact_lag_2'])\n",
    "dataset['ground_contact_lag_1'] = feature_normalize(dataset['ground_contact_lag_1'])\n",
    "dataset['ground_contact_lag_0'] = feature_normalize(dataset['ground_contact_lag_0'])\n",
    "dataset['pelvic_drop_lag_10'] = feature_normalize(dataset['pelvic_drop_lag_10'])\n",
    "dataset['pelvic_drop_lag_9'] = feature_normalize(dataset['pelvic_drop_lag_9'])\n",
    "dataset['pelvic_drop_lag_8'] = feature_normalize(dataset['pelvic_drop_lag_8'])\n",
    "dataset['pelvic_drop_lag_7'] = feature_normalize(dataset['pelvic_drop_lag_7'])\n",
    "dataset['pelvic_drop_lag_6'] = feature_normalize(dataset['pelvic_drop_lag_6'])\n",
    "dataset['pelvic_drop_lag_5'] = feature_normalize(dataset['pelvic_drop_lag_5'])\n",
    "dataset['pelvic_drop_lag_4'] = feature_normalize(dataset['pelvic_drop_lag_4'])\n",
    "dataset['pelvic_drop_lag_3'] = feature_normalize(dataset['pelvic_drop_lag_3'])\n",
    "dataset['pelvic_drop_lag_2'] = feature_normalize(dataset['pelvic_drop_lag_2'])\n",
    "dataset['pelvic_drop_lag_1'] = feature_normalize(dataset['pelvic_drop_lag_1'])\n",
    "dataset['pelvic_drop_lag_0'] = feature_normalize(dataset['pelvic_drop_lag_0'])\n",
    "dataset['pelvic_rotation_lag_10'] = feature_normalize(dataset['pelvic_rotation_lag_10'])\n",
    "dataset['pelvic_rotation_lag_9'] = feature_normalize(dataset['pelvic_rotation_lag_9'])\n",
    "dataset['pelvic_rotation_lag_8'] = feature_normalize(dataset['pelvic_rotation_lag_8'])\n",
    "dataset['pelvic_rotation_lag_7'] = feature_normalize(dataset['pelvic_rotation_lag_7'])\n",
    "dataset['pelvic_rotation_lag_6'] = feature_normalize(dataset['pelvic_rotation_lag_6'])\n",
    "dataset['pelvic_rotation_lag_5'] = feature_normalize(dataset['pelvic_rotation_lag_5'])\n",
    "dataset['pelvic_rotation_lag_4'] = feature_normalize(dataset['pelvic_rotation_lag_4'])\n",
    "dataset['pelvic_rotation_lag_3'] = feature_normalize(dataset['pelvic_rotation_lag_3'])\n",
    "dataset['pelvic_rotation_lag_2'] = feature_normalize(dataset['pelvic_rotation_lag_2'])\n",
    "dataset['pelvic_rotation_lag_1'] = feature_normalize(dataset['pelvic_rotation_lag_1'])\n",
    "dataset['pelvic_rotation_lag_0'] = feature_normalize(dataset['pelvic_rotation_lag_0'])\n",
    "dataset['pelvic_tilt_lag_10'] = feature_normalize(dataset['pelvic_tilt_lag_10'])\n",
    "dataset['pelvic_tilt_lag_9'] = feature_normalize(dataset['pelvic_tilt_lag_9'])\n",
    "dataset['pelvic_tilt_lag_8'] = feature_normalize(dataset['pelvic_tilt_lag_8'])\n",
    "dataset['pelvic_tilt_lag_7'] = feature_normalize(dataset['pelvic_tilt_lag_7'])\n",
    "dataset['pelvic_tilt_lag_6'] = feature_normalize(dataset['pelvic_tilt_lag_6'])\n",
    "dataset['pelvic_tilt_lag_5'] = feature_normalize(dataset['pelvic_tilt_lag_5'])\n",
    "dataset['pelvic_tilt_lag_4'] = feature_normalize(dataset['pelvic_tilt_lag_4'])\n",
    "dataset['pelvic_tilt_lag_3'] = feature_normalize(dataset['pelvic_tilt_lag_3'])\n",
    "dataset['pelvic_tilt_lag_2'] = feature_normalize(dataset['pelvic_tilt_lag_2'])\n",
    "dataset['pelvic_tilt_lag_1'] = feature_normalize(dataset['pelvic_tilt_lag_1'])\n",
    "dataset['pelvic_tilt_lag_0'] = feature_normalize(dataset['pelvic_tilt_lag_0'])"
   ]
  },
  {
   "cell_type": "markdown",
   "metadata": {},
   "source": [
    "#### Preprocess data using Team1 CNN Architecture"
   ]
  },
  {
   "cell_type": "code",
   "execution_count": 7,
   "metadata": {},
   "outputs": [],
   "source": [
    "# Without SQL pre-processing\n",
    "#segments, labels = segment_signal(dataset)\n",
    "\n",
    "# With SQL pre-processing\n",
    "segments, labels = segment_signal_vector(dataset)\n",
    "if speed_bucket_size != 'none_use_regression': # convert to one-hot vector labels if not using regression\n",
    "     labels_to_number = np.unique(labels) # Caches \"labels_to_number\" in order to use in rmse for classification\n",
    "     labels = np.asarray(pd.get_dummies(labels), dtype = np.int8)\n",
    "     num_buckets_total = len(labels[1])"
   ]
  },
  {
   "cell_type": "code",
   "execution_count": 8,
   "metadata": {},
   "outputs": [
    {
     "name": "stdout",
     "output_type": "stream",
     "text": [
      "[0.  0.1 0.2 0.3 0.4 0.5 0.6 0.7 0.8 0.9 1.  1.1 1.2 1.3 1.4 1.5 1.6 1.7\n",
      " 1.8 1.9 2.  2.1 2.2 2.3 2.4 2.5 2.6 2.7 2.8 2.9 3.  3.1 3.2 3.3 3.4 3.5\n",
      " 3.6 3.7 3.8 3.9 4.  4.1 4.2 4.3 4.4 4.5 4.6 4.7 4.8 4.9 5.  5.1 5.2 5.3\n",
      " 5.4 5.7 5.8 5.9 6.1]\n",
      "(127015, 59)\n",
      "(127015, 81)\n",
      "[[0 0 0 0 0 0 0 0 0 0 0 0 0 0 0 0 0 0 0 0 0 0 0 0 0 0 0 0 0 1 0 0 0 0 0 0\n",
      "  0 0 0 0 0 0 0 0 0 0 0 0 0 0 0 0 0 0 0 0 0 0 0]\n",
      " [0 0 0 0 0 0 0 0 0 0 0 0 0 0 0 0 0 0 0 0 0 0 0 0 0 0 0 0 0 0 1 0 0 0 0 0\n",
      "  0 0 0 0 0 0 0 0 0 0 0 0 0 0 0 0 0 0 0 0 0 0 0]]\n"
     ]
    }
   ],
   "source": [
    "# CHANGED: ADDED DEBUGGER HELPER CODE\n",
    "\n",
    "# Debugger Helper Code\n",
    "\n",
    "print(labels_to_number)\n",
    "print(labels.shape)\n",
    "print(segments.shape)\n",
    "print(labels[0:2])"
   ]
  },
  {
   "cell_type": "markdown",
   "metadata": {},
   "source": [
    "#### Shuffle data into training and dev"
   ]
  },
  {
   "cell_type": "code",
   "execution_count": 9,
   "metadata": {},
   "outputs": [],
   "source": [
    "train_test_split = np.random.rand(len(segments)) < 0.90\n",
    "X_train = segments[train_test_split]\n",
    "y_train = labels[train_test_split]\n",
    "X_test = segments[~train_test_split]\n",
    "y_test = labels[~train_test_split]"
   ]
  },
  {
   "cell_type": "code",
   "execution_count": 10,
   "metadata": {},
   "outputs": [
    {
     "name": "stdout",
     "output_type": "stream",
     "text": [
      "(127015,)\n",
      "(12827, 81)\n",
      "(114188, 59)\n",
      "(12827, 59)\n"
     ]
    }
   ],
   "source": [
    "# CHANGED: ADDED DEBUGGER HELPER CODE HERE\n",
    "\n",
    "print(train_test_split.shape)\n",
    "print(X_test.shape)\n",
    "print(y_train.shape)\n",
    "print(y_test.shape)"
   ]
  },
  {
   "cell_type": "markdown",
   "metadata": {},
   "source": [
    "#### Design neural network architecture"
   ]
  },
  {
   "cell_type": "code",
   "execution_count": 11,
   "metadata": {},
   "outputs": [],
   "source": [
    "model = Sequential()\n",
    "model.add(Dense(num_hidden_units_L1, activation=activation_L1, input_shape=(input_num_timestamps*num_channels + num_anthropometrics,)))\n",
    "model.add(BatchNormalization())\n",
    "model.add(Dropout(dropout_rate_L1))\n",
    "model.add(Dense(num_hidden_units_L2, activation=activation_L2))\n",
    "model.add(BatchNormalization())\n",
    "model.add(Dropout(dropout_rate_L2))\n",
    "model.add(Dense(num_hidden_units_L3, activation=activation_L3))\n",
    "model.add(BatchNormalization())\n",
    "model.add(Dropout(dropout_rate_L3))\n",
    "model.add(Dense(num_hidden_units_L4, activation=activation_L4))\n",
    "model.add(BatchNormalization())\n",
    "model.add(Dropout(dropout_rate_L4))\n",
    "model.add(Dense(num_hidden_units_L5, activation=activation_L5))\n",
    "model.add(BatchNormalization())\n",
    "model.add(Dropout(dropout_rate_L5))\n",
    "model.add(Dense(num_hidden_units_L6, activation=activation_L6))\n",
    "model.add(BatchNormalization())\n",
    "model.add(Dropout(dropout_rate_L6))\n",
    "if speed_bucket_size != 'none_use_regression': # use softmax if this is a classification task\n",
    "    model.add(Dense(num_buckets_total, activation='softmax'))\n",
    "else:\n",
    "    model.add(Dense(1,activation='linear'))"
   ]
  },
  {
   "cell_type": "code",
   "execution_count": 12,
   "metadata": {},
   "outputs": [
    {
     "name": "stdout",
     "output_type": "stream",
     "text": [
      "_________________________________________________________________\n",
      "Layer (type)                 Output Shape              Param #   \n",
      "=================================================================\n",
      "dense_1 (Dense)              (None, 256)               20992     \n",
      "_________________________________________________________________\n",
      "batch_normalization_1 (Batch (None, 256)               1024      \n",
      "_________________________________________________________________\n",
      "dropout_1 (Dropout)          (None, 256)               0         \n",
      "_________________________________________________________________\n",
      "dense_2 (Dense)              (None, 256)               65792     \n",
      "_________________________________________________________________\n",
      "batch_normalization_2 (Batch (None, 256)               1024      \n",
      "_________________________________________________________________\n",
      "dropout_2 (Dropout)          (None, 256)               0         \n",
      "_________________________________________________________________\n",
      "dense_3 (Dense)              (None, 256)               65792     \n",
      "_________________________________________________________________\n",
      "batch_normalization_3 (Batch (None, 256)               1024      \n",
      "_________________________________________________________________\n",
      "dropout_3 (Dropout)          (None, 256)               0         \n",
      "_________________________________________________________________\n",
      "dense_4 (Dense)              (None, 128)               32896     \n",
      "_________________________________________________________________\n",
      "batch_normalization_4 (Batch (None, 128)               512       \n",
      "_________________________________________________________________\n",
      "dropout_4 (Dropout)          (None, 128)               0         \n",
      "_________________________________________________________________\n",
      "dense_5 (Dense)              (None, 128)               16512     \n",
      "_________________________________________________________________\n",
      "batch_normalization_5 (Batch (None, 128)               512       \n",
      "_________________________________________________________________\n",
      "dropout_5 (Dropout)          (None, 128)               0         \n",
      "_________________________________________________________________\n",
      "dense_6 (Dense)              (None, 128)               16512     \n",
      "_________________________________________________________________\n",
      "batch_normalization_6 (Batch (None, 128)               512       \n",
      "_________________________________________________________________\n",
      "dropout_6 (Dropout)          (None, 128)               0         \n",
      "_________________________________________________________________\n",
      "dense_7 (Dense)              (None, 59)                7611      \n",
      "=================================================================\n",
      "Total params: 230,715\n",
      "Trainable params: 228,411\n",
      "Non-trainable params: 2,304\n",
      "_________________________________________________________________\n"
     ]
    }
   ],
   "source": [
    "model.summary()"
   ]
  },
  {
   "cell_type": "code",
   "execution_count": 13,
   "metadata": {},
   "outputs": [
    {
     "name": "stdout",
     "output_type": "stream",
     "text": [
      "[ 0.25082483  0.14781306 -0.09895234 -0.02805256  0.00349558  0.20034645\n",
      "  0.34993351  0.66500572  0.53891995]\n"
     ]
    }
   ],
   "source": [
    "# ADDED: DEBUGGER HELPER CODE\n",
    "\n",
    "# Debuging helper code\n",
    "\n",
    "print(segments[0,1:10])"
   ]
  },
  {
   "cell_type": "markdown",
   "metadata": {},
   "source": [
    "#### Define custom loss functions and evaluation metrics"
   ]
  },
  {
   "cell_type": "code",
   "execution_count": 14,
   "metadata": {},
   "outputs": [],
   "source": [
    "from keras import backend as K\n",
    "\n",
    "def class_mse(y_true, y_pred):\n",
    "    return K.mean(K.square(K.sum(y_pred * labels_to_number,axis=-1,keepdims=True) - K.sum(y_true * labels_to_number,axis=-1,keepdims=True)), axis=-1)\n",
    "    #return backend.sum(y_true * labels_to_number,axis=-1,keepdims=True)\n",
    "    #return backend.sqrt(backend.mean(backend.square(np.dot(y_pred,labels_to_number) - np.dot(y_true,labels_to_number)), axis=-1))\n",
    "    # Note: we cannot perform RMSE in Keras since the loss function is defined for one training example at a time\n",
    "\n",
    "def class_mae(y_true, y_pred):\n",
    "    return K.mean(K.abs(K.sum(y_pred * labels_to_number,axis=-1,keepdims=True) - K.sum(y_true * labels_to_number,axis=-1,keepdims=True)), axis=-1)\n",
    "\n",
    "def class_mape(y_true, y_pred):\n",
    "    diff = K.abs((K.sum(y_true * labels_to_number,axis=-1,keepdims=True) - K.sum(y_pred * labels_to_number,axis=-1,keepdims=True)) / K.clip(K.abs(K.sum(y_true * labels_to_number,axis=-1,keepdims=True)),K.epsilon(),None))\n",
    "    return 100. * K.mean(diff, axis=-1)\n",
    "\n",
    "def class_categorical_accuracy_FROMDOCUMENTATION(y_true, y_pred):\n",
    "    return K.cast(K.equal(K.argmax(y_true, axis=-1),K.argmax(y_pred, axis=-1)),K.floatx())\n",
    "\n",
    "def class_percent_1buckLow(y_true, y_pred):\n",
    "    return K.cast(K.equal(K.cast(K.argmax(y_true, axis=-1), K.floatx()), K.cast(K.argmax(y_pred, axis=-1),K.floatx())+1.0), K.floatx())\n",
    "\n",
    "def class_percent_2buckLow(y_true, y_pred):\n",
    "    return K.cast(K.equal(K.cast(K.argmax(y_true, axis=-1), K.floatx()), K.cast(K.argmax(y_pred, axis=-1),K.floatx())+2.0), K.floatx())\n",
    "    \n",
    "def class_percent_1buckHigh(y_true, y_pred):\n",
    "    return K.cast(K.equal(K.cast(K.argmax(y_true, axis=-1), K.floatx()), K.cast(K.argmax(y_pred, axis=-1),K.floatx())-1.0), K.floatx())    \n",
    "\n",
    "def class_percent_2buckHigh(y_true, y_pred):\n",
    "    return K.cast(K.equal(K.cast(K.argmax(y_true, axis=-1), K.floatx()), K.cast(K.argmax(y_pred, axis=-1),K.floatx())-2.0), K.floatx())    \n",
    "\n",
    "def class_percent_1buckRange(y_true, y_pred):\n",
    "    return K.cast(K.equal(K.cast(K.argmax(y_true, axis=-1), K.floatx()), K.cast(K.argmax(y_pred, axis=-1),K.floatx())-1.0), K.floatx()) + \\\n",
    "    K.cast(K.equal(K.cast(K.argmax(y_true, axis=-1), K.floatx()), K.cast(K.argmax(y_pred, axis=-1),K.floatx())+1.0), K.floatx()) + \\\n",
    "    K.cast(K.equal(K.argmax(y_true, axis=-1),K.argmax(y_pred, axis=-1)),K.floatx())\n",
    "\n",
    "def class_percent_2buckRange(y_true, y_pred):\n",
    "    return K.cast(K.equal(K.cast(K.argmax(y_true, axis=-1), K.floatx()), K.cast(K.argmax(y_pred, axis=-1),K.floatx())-1.0), K.floatx()) +  K.cast(K.equal(K.cast(K.argmax(y_true, axis=-1), K.floatx()), K.cast(K.argmax(y_pred, axis=-1),K.floatx())+1.0), K.floatx()) + K.cast(K.equal(K.argmax(y_true, axis=-1),K.argmax(y_pred, axis=-1)),K.floatx()) + \\\n",
    "    K.cast(K.equal(K.cast(K.argmax(y_true, axis=-1), K.floatx()), K.cast(K.argmax(y_pred, axis=-1),K.floatx())-2.0), K.floatx()) + \\\n",
    "    K.cast(K.equal(K.cast(K.argmax(y_true, axis=-1), K.floatx()), K.cast(K.argmax(y_pred, axis=-1),K.floatx())+2.0), K.floatx())    "
   ]
  },
  {
   "cell_type": "markdown",
   "metadata": {},
   "source": [
    "#### Configure model"
   ]
  },
  {
   "cell_type": "code",
   "execution_count": 15,
   "metadata": {},
   "outputs": [],
   "source": [
    "if speed_bucket_size != 'none_use_regression': # if performing classification, use cross-entropy loss\n",
    "    model.compile(loss ='categorical_crossentropy', optimizer='adam', metrics=['accuracy',class_percent_1buckRange,class_percent_2buckRange, class_mae, class_mse]) # class_percent_1buckLow,class_percent_1buckHigh,class_percent_2buckLow, class_percent_2buckHigh,'class_mape'\n",
    "else: # if performing regression analysis, use mean squared error\n",
    "    model.compile(loss='mae', optimizer='adam', metrics=['mse','mae']) # 'mse','mae', 'mape'"
   ]
  },
  {
   "cell_type": "markdown",
   "metadata": {},
   "source": [
    "#### Train!"
   ]
  },
  {
   "cell_type": "code",
   "execution_count": 16,
   "metadata": {},
   "outputs": [
    {
     "name": "stdout",
     "output_type": "stream",
     "text": [
      "Train on 114188 samples, validate on 12827 samples\n",
      "Epoch 1/5\n",
      "114188/114188 [==============================] - 43s 379us/step - loss: 3.8483 - acc: 0.0830 - class_percent_1buckRange: 0.2420 - class_percent_2buckRange: 0.3807 - class_mae: 0.4276 - class_mse: 0.4012 - val_loss: 2.7382 - val_acc: 0.1268 - val_class_percent_1buckRange: 0.3702 - val_class_percent_2buckRange: 0.5743 - val_class_mae: 0.3325 - val_class_mse: 0.2996\n",
      "Epoch 2/5\n",
      "114188/114188 [==============================] - 53s 468us/step - loss: 2.6666 - acc: 0.1491 - class_percent_1buckRange: 0.4125 - class_percent_2buckRange: 0.6133 - class_mae: 0.2960 - class_mse: 0.2413 - val_loss: 2.3552 - val_acc: 0.1888 - val_class_percent_1buckRange: 0.5066 - val_class_percent_2buckRange: 0.7140 - val_class_mae: 0.2391 - val_class_mse: 0.2005\n",
      "Epoch 3/5\n",
      "114188/114188 [==============================] - 60s 525us/step - loss: 2.5006 - acc: 0.1734 - class_percent_1buckRange: 0.4646 - class_percent_2buckRange: 0.6716 - class_mae: 0.2582 - class_mse: 0.1864 - val_loss: 2.2606 - val_acc: 0.2163 - val_class_percent_1buckRange: 0.5533 - val_class_percent_2buckRange: 0.7536 - val_class_mae: 0.1988 - val_class_mse: 0.0961\n",
      "Epoch 4/5\n",
      "114188/114188 [==============================] - 62s 539us/step - loss: 2.4343 - acc: 0.1831 - class_percent_1buckRange: 0.4880 - class_percent_2buckRange: 0.6972 - class_mae: 0.2404 - class_mse: 0.1612 - val_loss: 2.2223 - val_acc: 0.2114 - val_class_percent_1buckRange: 0.5590 - val_class_percent_2buckRange: 0.7650 - val_class_mae: 0.1856 - val_class_mse: 0.0816\n",
      "Epoch 5/5\n",
      "114188/114188 [==============================] - 60s 525us/step - loss: 2.3886 - acc: 0.1911 - class_percent_1buckRange: 0.5061 - class_percent_2buckRange: 0.7137 - class_mae: 0.2279 - class_mse: 0.1418 - val_loss: 2.2035 - val_acc: 0.2255 - val_class_percent_1buckRange: 0.5733 - val_class_percent_2buckRange: 0.7678 - val_class_mae: 0.1793 - val_class_mse: 0.0759\n"
     ]
    }
   ],
   "source": [
    "start_time = time.time()\n",
    "\n",
    "history = model.fit(X_train, y_train, batch_size= batch_size, epochs=training_epochs, verbose=1, validation_data=(X_test, y_test))\n",
    "\n",
    "end_time=time.time()"
   ]
  },
  {
   "cell_type": "markdown",
   "metadata": {},
   "source": [
    "### Plot and save results"
   ]
  },
  {
   "cell_type": "markdown",
   "metadata": {},
   "source": [
    "#### Save a plot of results:"
   ]
  },
  {
   "cell_type": "code",
   "execution_count": 18,
   "metadata": {},
   "outputs": [],
   "source": [
    "# Transform results into an np arrary\n",
    "trainAccuracy_1 = np.squeeze(history.history[accuracy_reporting_metric_1])\n",
    "devAccuracy_1 = np.squeeze(history.history[dev_reporting_metric_1])\n",
    "trainAccuracy_2 = np.squeeze(history.history[accuracy_reporting_metric_2])\n",
    "devAccuracy_2 = np.squeeze(history.history[dev_reporting_metric_2])    \n",
    "trainAccuracy_3 = np.squeeze(history.history[accuracy_reporting_metric_3])\n",
    "devAccuracy_3 = np.squeeze(history.history[dev_reporting_metric_3])\n",
    "trainAccuracy_4 = np.squeeze(history.history['acc'])\n",
    "devAccuracy_4 = np.squeeze(history.history['val_acc'])\n",
    "\n",
    "# Save results to a .csv\n",
    "df_devAccuracy = pd.DataFrame(np.transpose(np.vstack([devAccuracy_1, devAccuracy_2])))\n",
    "filepath_acc = \"../results/\"+str(results_file_name)+\"_AccuracyPerEpoch_\"+str(name)+\".csv\" # CHANGED (added str())\n",
    "df_devAccuracy.to_csv(filepath_acc, header = [dev_reporting_metric_1, dev_reporting_metric_2], index=False)\n",
    "\n",
    "# Declare final values for results\n",
    "final_accuracy_1 = history.history[accuracy_reporting_metric_1][training_epochs - 1]\n",
    "final_accuracy_dev_1 = history.history[dev_reporting_metric_1][training_epochs - 1]\n",
    "final_accuracy_2 = history.history[accuracy_reporting_metric_2][training_epochs - 1]\n",
    "final_accuracy_dev_2 = history.history[dev_reporting_metric_2][training_epochs - 1]\n",
    "final_accuracy_3 = history.history[accuracy_reporting_metric_3][training_epochs - 1]\n",
    "final_accuracy_dev_3 = history.history[dev_reporting_metric_3][training_epochs - 1]\n",
    "final_accuracy_4 = history.history['acc'][training_epochs - 1]\n",
    "final_accuracy_dev_4 = history.history['val_acc'][training_epochs - 1]\n"
   ]
  },
  {
   "cell_type": "code",
   "execution_count": 23,
   "metadata": {},
   "outputs": [
    {
     "name": "stderr",
     "output_type": "stream",
     "text": [
      "C:\\Users\\adam\\Anaconda3\\lib\\site-packages\\matplotlib\\legend.py:638: UserWarning: Unrecognized location \"bestoutside\". Falling back on \"best\"; valid locations are\n",
      "\tbest\n",
      "\tupper right\n",
      "\tupper left\n",
      "\tlower left\n",
      "\tlower right\n",
      "\tright\n",
      "\tcenter left\n",
      "\tcenter right\n",
      "\tlower center\n",
      "\tupper center\n",
      "\tcenter\n",
      "\n",
      "  % (loc, '\\n\\t'.join(self.codes)))\n"
     ]
    },
    {
     "data": {
      "image/png": "[encoded data removed]",
      "text/plain": [
       "<matplotlib.figure.Figure at 0x21283d17f28>"
      ]
     },
     "metadata": {},
     "output_type": "display_data"
    }
   ],
   "source": [
    "from matplotlib.patches import Rectangle # CHANGED corrected\n",
    "from matplotlib.legend import Legend\n",
    "\n",
    "fig, ax1 = plt.subplots()\n",
    "lines=[]\n",
    "\n",
    "lines += ax1.plot(trainAccuracy_4,'#0e128c', label='Train Accuracy 2', linewidth=1) #'#DAF7A6'\n",
    "lines += ax1.plot(devAccuracy_4,'#a3a4cc', label='Dev Accuracy 2', linewidth=1)# '#33FF00',\n",
    "lines += ax1.plot(trainAccuracy_1,'#FF5733', label='Train Accuracy 1', linewidth=1)\n",
    "lines += ax1.plot(devAccuracy_1,'#C70039', label='Dev Accuracy 1', linewidth=1)\n",
    "lines += ax1.plot(trainAccuracy_2,'#9C27B0', label='Train Accuracy 2', linewidth=1)\n",
    "lines += ax1.plot(devAccuracy_2,'#7986CB', label='Dev Accuracy 2', linewidth=1)\n",
    "plt.ylim([0.0, 1.0])  # Surpress this for non-classification tasks\n",
    "\n",
    "plt.ylabel('Train vs. Dev Accuracy')\n",
    "\n",
    "plt.xlabel('Epochs')\n",
    "plt.title(dev_reporting_metric_1 + \": \" + str(np.around(final_accuracy_dev_1,4)) + \"\\n\" + \\\n",
    "         dev_reporting_metric_2 + \": \" + str(np.around(final_accuracy_dev_2,4))) \n",
    "extra = Rectangle((0, 0), 1, 1, fc=\"w\", fill=False, edgecolor='none', linewidth=0)\n",
    "plt.legend([extra,extra,extra,extra,extra,extra,extra,extra,extra,extra],(\n",
    "                                                \"loss: \" + loss_function,\n",
    "                                                \"learning rate: \" + str(learning_rate),\n",
    "                                                \"batch_size: \" + str(batch_size),\n",
    "                                                \"speed_bucket_size: \" + speed_bucket_size,\n",
    "                                                \"epochs: \"+str(training_epochs),\n",
    "                                                \"input_num_timestamps: \" + str(input_num_timestamps),\n",
    "                                                \"num_labels: \" + str(len(labels_to_number)),\n",
    "                                                \"evaluation metric 1:\"+accuracy_reporting_metric_1,\n",
    "                                                \"evaluation metric_2:\"+accuracy_reporting_metric_2,\n",
    "                                                \"evaluation metric_3:\"+accuracy_reporting_metric_3, # CHANGED (fixed formatting)\n",
    "                                                \"note:\" + plot_note),\n",
    "                                                bbox_to_anchor=(1.05, 1),\n",
    "                                                loc=2,\n",
    "                                                borderaxespad=0.)\n",
    "\n",
    "leg = Legend(ax1, lines[0:], ['Train ACC', 'Dev ACC','Train Eval 1','Dev Eval 1'], # CHANGED label of dev eval 1\n",
    "             loc='bestoutside', frameon=False)\n",
    "ax1.add_artist(leg);\n",
    "plot_filename=str(time.time())+\"User-\"+str(socket.gethostname())+plot_note # add plot not to identify this plot\n",
    "plt.savefig(\"../plots/\"+plot_filename+\"_AccuracyVsEpoch.png\", bbox_inches = \"tight\")\n",
    "plt.show()"
   ]
  },
  {
   "cell_type": "markdown",
   "metadata": {},
   "source": [
    "#### Record results of a model in a table:"
   ]
  },
  {
   "cell_type": "code",
   "execution_count": null,
   "metadata": {},
   "outputs": [],
   "source": [
    "model_time = end_time-start_time\n",
    "time_per_epoch = model_time/training_epochs\n",
    "\n",
    "# Add the results of the most recent run to the results file for documentation\n",
    "a=[[\"FCN\",\n",
    "    name,\n",
    "    \"na\",\n",
    "    myFileLocation,\n",
    "    training_epochs,  \n",
    "    model_time,\n",
    "    final_accuracy_1,\n",
    "    final_accuracy_dev_1,\n",
    "    final_accuracy_2,\n",
    "    final_accuracy_dev_2,\n",
    "    final_accuracy_3,\n",
    "    final_accuracy_dev_3,\n",
    "    batch_size,\n",
    "    num_layers,\n",
    "    activations_strategy,\n",
    "    dropout_rates,    \n",
    "    learning_rate,\n",
    "    speed_bucket_size,\n",
    "    loss_function,\n",
    "    input_num_timestamps,\n",
    "    label_window_size,\n",
    "    accuracy_reporting_metric_1,\n",
    "    accuracy_reporting_metric_2,\n",
    "    accuracy_reporting_metric_3\n",
    "    ]]\n",
    "        \n",
    "df=pd.DataFrame(a, columns=[\"model type\",\n",
    "                            \"model filename\",\n",
    "                            \"plot filename\",\n",
    "                            \"data filename\",\n",
    "                            \"epochs\",\n",
    "                            \"runtime\",\n",
    "                            \"train accuracy 1\",\n",
    "                            \"dev accuracy 1\",\n",
    "                            \"train accuracy 2\",\n",
    "                            \"dev accuracy 2\",\n",
    "                            \"train accuracy 3\",\n",
    "                            \"dev accuracy 3\",\n",
    "                            \"batch_size\",\n",
    "                            \"num_layers\",\n",
    "                            \"activations_strategy\",\n",
    "                            \"dropout_rates\",    \n",
    "                            \"learning_rate\",\n",
    "                            \"speed_bucket_size\",\n",
    "                            \"loss_function\",\n",
    "                            \"input_num_timestamps\",\n",
    "                            \"label_window_size\",\n",
    "                            \"evaluation_metric_1\",\n",
    "                            \"evaluation_metric_2\",\n",
    "                            \"evaluation_metric_3\"])\n",
    "\n",
    "past_results = load_results_file(results_file_name)\n",
    "past_results=pd.concat([past_results,df])\n",
    "print(past_results)\n",
    "past_results.to_csv(\"../results/\"+results_file_name+\".csv\",index=False ) # FIX TO PUT THE COLUMNS NOT ALPHABETICAL"
   ]
  },
  {
   "cell_type": "markdown",
   "metadata": {},
   "source": [
    "#### Build Confusion Matrix and Regression Plot"
   ]
  },
  {
   "cell_type": "code",
   "execution_count": null,
   "metadata": {},
   "outputs": [],
   "source": [
    "y_pred = model.predict(X_test)\n",
    "y_pred_argmax = np.argmax(y_pred, axis=1)\n",
    "\n",
    "y_true = y_test\n",
    "y_true_argmax = np.argmax(y_true, axis=1)"
   ]
  },
  {
   "cell_type": "code",
   "execution_count": null,
   "metadata": {},
   "outputs": [],
   "source": [
    "# Plot results\n",
    "plt.scatter(y_true_argmax, y_pred_argmax, s=3, alpha=0.3)\n",
    "plt.scatter(y_true_argmax, y_true_argmax, s=3, alpha=1)\n",
    "#plt.scatter(y_true, y_pred, s=3, alpha=0.3) # For regression\n",
    "plt.xlim([0,50])\n",
    "plt.ylim([0,50])\n",
    "plt.xlabel('Y_True')\n",
    "plt.ylabel('Y_Prediction')\n",
    "plt.savefig(\"../plots/\"+name+\"_\"+plot_filename+\"_ConfusionMatrix.png\")\n",
    "plt.show()\n",
    "\n",
    "# Record data in a an .csv\n",
    "y_trueVy_pred = np.vstack([y_true_argmax,y_pred_argmax])\n",
    "df_y_trueVy_pred = pd.DataFrame(np.transpose(y_trueVy_pred))\n",
    "filepath_predictions = \"../results/\"+results_file_name+\"_Predictions_\"+name+\".csv\"\n",
    "df_y_trueVy_pred.to_csv(filepath_predictions, header = [\"y_true_argmax\", \"y_pred_argmax\"], index=False)\n",
    "\n",
    "# Create and save a confusion matrix\n",
    "cm = confusion_matrix(y_true_argmax, y_pred_argmax)\n",
    "df_cm = pd.DataFrame (cm)\n",
    "filepath_cm = \"../results/\"+results_file_name+\"ConfusionMatrix.xlsx\"\n",
    "df_cm.to_excel(filepath_cm, index=False)"
   ]
  }
 ],
 "metadata": {
  "kernelspec": {
   "display_name": "Python 3",
   "language": "python",
   "name": "python3"
  },
  "language_info": {
   "codemirror_mode": {
    "name": "ipython",
    "version": 3
   },
   "file_extension": ".py",
   "mimetype": "text/x-python",
   "name": "python",
   "nbconvert_exporter": "python",
   "pygments_lexer": "ipython3",
   "version": "3.6.4"
  }
 },
 "nbformat": 4,
 "nbformat_minor": 2
}
